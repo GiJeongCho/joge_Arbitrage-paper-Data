{
 "cells": [
  {
   "cell_type": "markdown",
   "metadata": {},
   "source": [
    "#### 1. 먼저환율을 예측한다. (예측 정확도에 따라서 점수화 할것.)\n",
    "#### LSTM, gru, 트렌스포머 등을  사용.\n",
    "\n",
    "\n",
    "###### 1-1 데이터 전처리"
   ]
  },
  {
   "cell_type": "code",
   "execution_count": 5,
   "metadata": {},
   "outputs": [],
   "source": [
    "import pandas as pd\n",
    "import numpy as np\n",
    "save_path = \"C:\\\\Users\\\\Happy\\\\Desktop\\\\논문용\\\\krwusdtdata\\\\전처리된파일\\\\\""
   ]
  },
  {
   "cell_type": "code",
   "execution_count": 6,
   "metadata": {},
   "outputs": [],
   "source": [
    "# 인베스트 컴 데이터 전처리 (인베스트에서 csv 파일 다운 후 아예 열지 않을 것을 권장!!)\n",
    "KRW_USDT = pd.read_csv(\"USD_KRW 내역.csv\") \n",
    "KRW_EUR = pd.read_csv(\"EUR_KRW 내역.csv\")\n",
    "KRW_CNY = pd.read_csv(\"CNY_KRW 내역.csv\")\n",
    "DXY = pd.read_csv(\"달러 지수 내역.csv\")# 미국 달러 인덱스\n",
    "\n",
    "KRW_USDT_2 = pd.read_csv(\"USD_KRW 내역 2.csv\") \n",
    "KRW_EUR_2 = pd.read_csv(\"EUR_KRW 내역 2.csv\")\n",
    "KRW_CNY_2 = pd.read_csv(\"CNY_KRW 내역 2.csv\")\n",
    "DXY_2 = pd.read_csv(\"달러 지수 내역 2.csv\")# 미국 달러 인덱스\n",
    "\n",
    "KRW_USDT = pd.concat([KRW_USDT,KRW_USDT_2],axis = 0,ignore_index=True)#.reset_index(drop =True,inplace = False)\n",
    "KRW_EUR = pd.concat([KRW_EUR,KRW_EUR_2],axis = 0,ignore_index=True)#.reset_index(drop =True,inplace = False)\n",
    "KRW_CNY = pd.concat([KRW_CNY,KRW_CNY_2],axis = 0,ignore_index=True)#.reset_index(drop =True,inplace = False)\n",
    "DXY = pd.concat([DXY,DXY_2],axis = 0, ignore_index=True)#.reset_index(drop =True,inplace = False)\n",
    "\n",
    "def Pretreatment_by_invest(df): #인베스트에서 다운한 데이터 전처리\n",
    "    df = df.rename(columns={'오픈':'Open','고가':'High',\"저가\":\"Low\",\"종가\":\"Close\"})\n",
    "    df = df[[\"날짜\",\"Open\",\"High\",\"Low\",\"Close\"]]\n",
    "    # 날짜 daytime형태로 변환\n",
    "    df[\"날짜\"] = [df[\"날짜\"][i][0:4]+\"-\"+df[\"날짜\"][i][6:8]+\"-\"+df[\"날짜\"][i][10:12] for i in range(len(df[\"날짜\"]))]\n",
    "    df['날짜'] = pd.to_datetime(df['날짜'], format='%Y-%m-%d', errors='raise')\n",
    "    \n",
    "    columns = df[[\"Open\",\"High\",\"Low\",\"Close\"]].columns\n",
    "    try:\n",
    "        for i in range(len(columns)):\n",
    "            df[columns[i]] = df[columns[i]].apply(lambda x : float(x.replace(',', ''))) ## @ lambda를 사용하여 한번에 모든 행 적용\n",
    "    except:\n",
    "        pass\n",
    "    \n",
    "    df = df.sort_values(['날짜'],ascending= True).drop_duplicates('날짜').reset_index(drop = True).rename(columns={'날짜':'time'})\n",
    "    \n",
    "    return df\n",
    "\n",
    "\n",
    "KRW_USDT = Pretreatment_by_invest(KRW_USDT)\n",
    "KRW_EUR = Pretreatment_by_invest(KRW_EUR)\n",
    "KRW_CNY = Pretreatment_by_invest(KRW_CNY)\n",
    "DXY = Pretreatment_by_invest(DXY)"
   ]
  },
  {
   "cell_type": "code",
   "execution_count": 7,
   "metadata": {},
   "outputs": [
    {
     "name": "stdout",
     "output_type": "stream",
     "text": [
      "<class 'pandas.core.frame.DataFrame'>\n",
      "RangeIndex: 5880 entries, 0 to 5879\n",
      "Data columns (total 5 columns):\n",
      " #   Column  Non-Null Count  Dtype         \n",
      "---  ------  --------------  -----         \n",
      " 0   time    5880 non-null   datetime64[ns]\n",
      " 1   Open    5880 non-null   float64       \n",
      " 2   High    5880 non-null   float64       \n",
      " 3   Low     5880 non-null   float64       \n",
      " 4   Close   5880 non-null   float64       \n",
      "dtypes: datetime64[ns](1), float64(4)\n",
      "memory usage: 229.8 KB\n"
     ]
    },
    {
     "data": {
      "text/plain": [
       "(           time     Open     High      Low    Close\n",
       " 0    2000-01-03  1138.67  1159.36  1132.41  1157.32\n",
       " 1    2000-01-04  1154.05  1161.38  1145.56  1157.46\n",
       " 2    2000-01-05  1154.87  1180.91  1153.64  1170.41\n",
       " 3    2000-01-06  1170.29  1194.27  1168.17  1183.39\n",
       " 4    2000-01-07  1183.13  1191.03  1165.42  1170.66\n",
       " ...         ...      ...      ...      ...      ...\n",
       " 5875 2022-07-14  1313.19  1329.46  1308.95  1318.52\n",
       " 5876 2022-07-15  1319.95  1336.80  1319.26  1329.20\n",
       " 5877 2022-07-18  1330.44  1341.04  1326.34  1337.02\n",
       " 5878 2022-07-19  1337.94  1345.31  1328.27  1334.35\n",
       " 5879 2022-07-20  1335.43  1346.24  1334.08  1343.25\n",
       " \n",
       " [5880 rows x 5 columns],\n",
       " None)"
      ]
     },
     "execution_count": 7,
     "metadata": {},
     "output_type": "execute_result"
    }
   ],
   "source": [
    "KRW_USDT.to_csv(save_path+\"KRW_USDT.csv\",index = False, encoding = \"cp949\")\n",
    "KRW_EUR.to_csv(save_path+\"KRW_EUR.csv\",index = False, encoding = \"cp949\")\n",
    "KRW_CNY.to_csv(save_path+\"KRW_CNY.csv\",index = False, encoding = \"cp949\")\n",
    "DXY.to_csv(save_path+\"DXY.csv\",index = False, encoding = \"cp949\")\n",
    "KRW_EUR,KRW_EUR.info()"
   ]
  },
  {
   "cell_type": "code",
   "execution_count": 9,
   "metadata": {
    "scrolled": true
   },
   "outputs": [],
   "source": [
    "#데이터 가이드 파일 ,시고저종이 있는 데이터는 good 하지만 없는 데이터는 새로운 컬럼명을 부여할 것!\n",
    "datagGuide = pd.read_excel(\"datagGuide.xlsx\", sheet_name = None)\n",
    "\n",
    "\n",
    "def Pretreatment_by_datagGuide(df): #데이터 가이드에서 다운한 데이터 전처리\n",
    "    data_columns = list(df.keys())\n",
    "    data = {}\n",
    "    for i in range(len(data_columns)):\n",
    "        data[data_columns[i]] = pd.DataFrame(df[data_columns[i]].iloc[13:,:].values,columns = [\"time\",\"Open\",\"High\",\"Low\",\"Close\"])\n",
    "\n",
    "        data[data_columns[i]] = data[data_columns[i]].sort_values(['time'],ascending= True).drop_duplicates('time').reset_index(drop = True).rename(columns={'날짜':'time'})\n",
    "        data[data_columns[i]][[\"Open\",\"High\",\"Low\",\"Close\"]] = data[data_columns[i]][[\"Open\",\"High\",\"Low\",\"Close\"]].astype(\"float\")\n",
    "    \n",
    "    return data\n",
    "\n",
    "\n",
    "#기준금리\n",
    "base_rate = pd.read_excel(\"금리.xlsx\", sheet_name = None)\n",
    "\n",
    "def base_rate_by_datagGuide(df):\n",
    "    \n",
    "    data_columns = list(df.keys())\n",
    "    data = {}\n",
    "    for i in range(len(data_columns)):\n",
    "        data[data_columns[i]] = pd.DataFrame(df[data_columns[i]].iloc[13:,:].values,columns = [\"time\",\"Open\",\"None\"])\n",
    "\n",
    "        data[data_columns[i]] = data[data_columns[i]].sort_values(['time'],ascending= True).drop_duplicates('time').reset_index(drop = True).rename(columns={'날짜':'time'})\n",
    "        data[data_columns[i]][[\"Open\"]] = data[data_columns[i]][[\"Open\"]].astype(\"float\")\n",
    "        try:\n",
    "            del data[data_columns[i]][\"None\"]\n",
    "        except:\n",
    "            pass\n",
    "    return data\n",
    "\n",
    "\n",
    "datagGuide = Pretreatment_by_datagGuide(datagGuide)\n",
    "base_rate = base_rate_by_datagGuide(base_rate)\n"
   ]
  },
  {
   "cell_type": "code",
   "execution_count": 11,
   "metadata": {},
   "outputs": [
    {
     "data": {
      "text/plain": [
       "{'코스피':            time     Open     High      Low    Close\n",
       " 0    2000-01-03  1028.07  1028.07  1028.07  1028.07\n",
       " 1    2000-01-04  1028.33  1066.18  1016.59  1059.04\n",
       " 2    2000-01-05  1006.87  1026.52   984.05   986.31\n",
       " 3    2000-01-06  1013.95  1014.90   953.50   960.79\n",
       " 4    2000-01-07   949.17   970.16   930.84   948.65\n",
       " ...         ...      ...      ...      ...      ...\n",
       " 5877 2022-07-13  2324.45  2341.19  2312.49  2328.61\n",
       " 5878 2022-07-14  2316.41  2338.29  2307.69  2322.32\n",
       " 5879 2022-07-15  2335.12  2337.30  2293.45  2330.98\n",
       " 5880 2022-07-18  2350.48  2376.50  2344.12  2375.25\n",
       " 5881 2022-07-19  2367.52  2372.74  2359.59  2370.97\n",
       " \n",
       " [5882 rows x 5 columns],\n",
       " '프랑스':            time     Open     High      Low    Close\n",
       " 0    2000-01-03  6024.38  6102.12  5901.77  6024.38\n",
       " 1    2000-01-04  5922.23  5925.07  5657.20  5922.23\n",
       " 2    2000-01-05  5521.83  5589.50  5461.59  5521.83\n",
       " 3    2000-01-06  5485.93  5530.26  5388.85  5485.93\n",
       " 4    2000-01-07  5423.88  5561.69  5423.88  5539.61\n",
       " ...         ...      ...      ...      ...      ...\n",
       " 5877 2022-07-13  6015.53  6025.73  5922.94  6000.24\n",
       " 5878 2022-07-14  5979.99  5997.31  5874.68  5915.41\n",
       " 5879 2022-07-15  5935.28  6043.80  5901.38  6036.00\n",
       " 5880 2022-07-18  6070.21  6136.02  6059.87  6091.91\n",
       " 5881 2022-07-19  6031.60  6213.88  6028.79  6201.22\n",
       " \n",
       " [5882 rows x 5 columns],\n",
       " '독일':            time      Open      High       Low     Close\n",
       " 0    2000-01-03   6961.72   7159.33   6720.87   6961.72\n",
       " 1    2000-01-04   6747.24   6755.36   6510.46   6747.24\n",
       " 2    2000-01-05   6585.85   6585.85   6388.91   6585.85\n",
       " 3    2000-01-06   6501.45   6539.31   6402.63   6501.45\n",
       " 4    2000-01-07   6489.94   6791.53   6470.14   6780.96\n",
       " ...         ...       ...       ...       ...       ...\n",
       " 5877 2022-07-13  12800.87  12851.90  12625.22  12756.32\n",
       " 5878 2022-07-14  12759.29  12788.01  12434.29  12519.66\n",
       " 5879 2022-07-15  12562.15  12875.67  12532.94  12864.72\n",
       " 5880 2022-07-18  12935.05  13062.23  12913.69  12959.81\n",
       " 5881 2022-07-19  12884.83  13351.20  12827.89  13308.41\n",
       " \n",
       " [5882 rows x 5 columns],\n",
       " '니케이 225':            time      Open      High       Low     Close\n",
       " 0    2000-01-03  18793.55  18960.33  18722.51  18793.60\n",
       " 1    2000-01-04  18937.45  19187.61  18937.45  18937.40\n",
       " 2    2000-01-05  19003.51  19003.51  18221.82  19003.50\n",
       " 3    2000-01-06  18574.01  18582.74  18168.27  18574.00\n",
       " 4    2000-01-07  18194.05  18285.73  18068.10  18194.00\n",
       " ...         ...       ...       ...       ...       ...\n",
       " 5877 2022-07-13  26403.79  26543.07  26389.10  26478.77\n",
       " 5878 2022-07-14  26357.32  26713.07  26312.79  26643.39\n",
       " 5879 2022-07-15  26736.08  26857.77  26571.38  26788.47\n",
       " 5880 2022-07-18  26736.08  26857.77  26571.38  26788.47\n",
       " 5881 2022-07-19  27003.83  27043.58  26791.71  26961.68\n",
       " \n",
       " [5882 rows x 5 columns],\n",
       " '중화인민공화국 상해종합':            time      Open      High       Low    Close\n",
       " 0    2000-01-03  1357.815  1366.678  1357.815  1366.58\n",
       " 1    2000-01-04  1368.693  1407.518  1361.214  1406.37\n",
       " 2    2000-01-05  1407.829  1433.780  1398.323  1409.68\n",
       " 3    2000-01-06  1406.036  1463.955  1400.253  1463.94\n",
       " 4    2000-01-07  1477.154  1522.825  1477.154  1516.60\n",
       " ...         ...       ...       ...       ...      ...\n",
       " 5877 2022-07-13  3279.600  3297.020  3266.480  3284.29\n",
       " 5878 2022-07-14  3277.450  3299.250  3261.490  3281.74\n",
       " 5879 2022-07-15  3261.380  3288.920  3228.060  3228.06\n",
       " 5880 2022-07-18  3235.090  3278.470  3226.230  3278.10\n",
       " 5881 2022-07-19  3278.720  3283.930  3256.020  3279.43\n",
       " \n",
       " [5882 rows x 5 columns]}"
      ]
     },
     "execution_count": 11,
     "metadata": {},
     "output_type": "execute_result"
    }
   ],
   "source": [
    "datagGuide"
   ]
  },
  {
   "cell_type": "code",
   "execution_count": null,
   "metadata": {},
   "outputs": [],
   "source": [
    "keys = list(datagGuide.keys())\n",
    "for i in range(len(datagGuide)):\n",
    "    \n",
    "    print(datagGuide[keys[i]])\n",
    "    print(datagGuide[keys[i]].info())\n",
    "    \n",
    "    datagGuide[keys[i]].to_csv(save_path+keys[i]+\".csv\",index = False, encoding = \"cp949\")\n",
    "\n",
    "keys = list(base_rate.keys())\n",
    "for i in range(len(base_rate)):\n",
    "    \n",
    "    print(base_rate[keys[i]])\n",
    "    print(base_rate[keys[i]].info())\n",
    "    \n",
    "    base_rate[keys[i]].to_csv(save_path+keys[i]+\".csv\",index = False, encoding = \"cp949\")\n",
    "\n",
    "    "
   ]
  },
  {
   "cell_type": "code",
   "execution_count": 12,
   "metadata": {},
   "outputs": [
    {
     "data": {
      "text/plain": [
       "{'미국금리':            time  Open\n",
       " 0    1999-07-01  4.75\n",
       " 1    1999-07-02  5.00\n",
       " 2    1999-07-03  5.00\n",
       " 3    1999-07-04  5.00\n",
       " 4    1999-07-05  5.00\n",
       " ...         ...   ...\n",
       " 8416 2022-07-16  1.75\n",
       " 8417 2022-07-17  1.75\n",
       " 8418 2022-07-18  1.75\n",
       " 8419 2022-07-19  1.75\n",
       " 8420 2022-07-20  1.75\n",
       " \n",
       " [8421 rows x 2 columns],\n",
       " '한국금리':            time  Open\n",
       " 0    1999-07-01  4.75\n",
       " 1    1999-07-02  4.75\n",
       " 2    1999-07-03  4.75\n",
       " 3    1999-07-04  4.75\n",
       " 4    1999-07-05  4.75\n",
       " ...         ...   ...\n",
       " 8416 2022-07-16  2.25\n",
       " 8417 2022-07-17  2.25\n",
       " 8418 2022-07-18  2.25\n",
       " 8419 2022-07-19  2.25\n",
       " 8420 2022-07-20  2.25\n",
       " \n",
       " [8421 rows x 2 columns]}"
      ]
     },
     "execution_count": 12,
     "metadata": {},
     "output_type": "execute_result"
    }
   ],
   "source": [
    "base_rate"
   ]
  },
  {
   "cell_type": "code",
   "execution_count": 674,
   "metadata": {},
   "outputs": [],
   "source": [
    "# keys  = list(base_rate.keys())\n",
    "# for i in range(len(keys)):\n",
    "    \n",
    "#     print(base_rate[keys[i]])\n",
    "#     print(base_rate[keys[i]].info())\n",
    "#     base_rate[keys[i]].to_csv(save_path+keys[i]+\".csv\",index = False, encoding = \"cp949\")"
   ]
  },
  {
   "cell_type": "code",
   "execution_count": 675,
   "metadata": {},
   "outputs": [],
   "source": [
    "# yes traider 파일\n",
    "krx_100 = pd.read_csv(\"krx 100.csv\" , encoding = \"cp949\",names = ['날짜',\"Open\",\"High\",\"Low\",\"Close\"])\n",
    "BTC_KRW = pd.read_csv(\"daydata.csv\" , encoding = \"cp949\",names = ['날짜',\"Open\",\"High\",\"Low\",\"Close\"])\n",
    "\n",
    "def Pretreatment_by_yes_trader(df): #데이터 가이드에서 다운한 데이터 전처리\n",
    "    df[\"날짜\"] = [df[\"날짜\"][i][0:4]+\"-\"+df[\"날짜\"][i][5:7]+\"-\"+df[\"날짜\"][i][8:10] for i in range(len(df[\"날짜\"]))]\n",
    "    df['날짜'] = pd.to_datetime(df['날짜'], format='%Y-%m-%d', errors='raise')\n",
    "    \n",
    "    # 예스트레이더는 장이 열려있으면 데이터를 이상하게 주기 떄문에 중복제거, 인덱스 초기화 를 하였음\n",
    "    df = df.sort_values(['날짜'],ascending= True).drop_duplicates('날짜').reset_index(drop = True).rename(columns={'날짜':'time'})\n",
    "    \n",
    "    return df\n",
    "\n",
    "krx_100 = Pretreatment_by_yes_trader(krx_100)\n",
    "BTC_KRW = Pretreatment_by_yes_trader(BTC_KRW)"
   ]
  },
  {
   "cell_type": "code",
   "execution_count": 676,
   "metadata": {
    "scrolled": true
   },
   "outputs": [
    {
     "name": "stdout",
     "output_type": "stream",
     "text": [
      "<class 'pandas.core.frame.DataFrame'>\n",
      "RangeIndex: 5326 entries, 0 to 5325\n",
      "Data columns (total 5 columns):\n",
      " #   Column  Non-Null Count  Dtype         \n",
      "---  ------  --------------  -----         \n",
      " 0   time    5326 non-null   datetime64[ns]\n",
      " 1   Open    5326 non-null   float64       \n",
      " 2   High    5326 non-null   float64       \n",
      " 3   Low     5326 non-null   float64       \n",
      " 4   Close   5326 non-null   float64       \n",
      "dtypes: datetime64[ns](1), float64(4)\n",
      "memory usage: 208.2 KB\n"
     ]
    },
    {
     "data": {
      "text/plain": [
       "(           time     Open     High      Low    Close\n",
       " 0    2001-01-02  1000.00  1000.00  1000.00  1000.00\n",
       " 1    2001-01-03   997.82   997.82   997.82   997.82\n",
       " 2    2001-01-04  1071.24  1071.24  1071.24  1071.24\n",
       " 3    2001-01-05  1111.68  1111.68  1111.68  1111.68\n",
       " 4    2001-01-08  1122.48  1122.48  1122.48  1122.48\n",
       " ...         ...      ...      ...      ...      ...\n",
       " 5321 2022-07-14  4792.35  4838.32  4772.45  4800.55\n",
       " 5322 2022-07-15  4830.37  4836.85  4745.72  4833.14\n",
       " 5323 2022-07-18  4883.78  4937.47  4870.19  4933.70\n",
       " 5324 2022-07-19  4911.63  4922.77  4888.12  4920.11\n",
       " 5325 2022-07-20  5005.08  5014.91  4949.55  4959.15\n",
       " \n",
       " [5326 rows x 5 columns],\n",
       " None)"
      ]
     },
     "execution_count": 676,
     "metadata": {},
     "output_type": "execute_result"
    }
   ],
   "source": [
    "krx_100.to_csv(save_path+\"krx_100\"+\".csv\",index = False, encoding = \"cp949\")\n",
    "BTC_KRW.to_csv(save_path+\"BTC_KRW\"+\".csv\",index = False, encoding = \"cp949\")\n",
    "\n",
    "krx_100,krx_100.info()"
   ]
  },
  {
   "cell_type": "code",
   "execution_count": 679,
   "metadata": {},
   "outputs": [
    {
     "name": "stdout",
     "output_type": "stream",
     "text": [
      "BTCUSDT\n"
     ]
    }
   ],
   "source": [
    "# 바이낸스 데이터 \n",
    "\n",
    "from binance.client import Client # python-binance\n",
    "from binance.spot import Spot #!pip install binance-connector\n",
    "import pickle\n",
    "import ccxt\n",
    "import requests\n",
    "import time\n",
    "import requests\n",
    "from datetime import datetime\n",
    "import pandas as pd\n",
    "from tqdm import tqdm\n",
    "import math\n",
    "import numpy as np\n",
    "import matplotlib.pyplot as plt\n",
    "\n",
    "def bin_sym_names():#바이낸스 심볼명들 도출\n",
    "    result = requests.get('https://api.binance.com/api/v3/ticker/price')\n",
    "    js = result.json()\n",
    "    symbols = [x['symbol'] for x in js]\n",
    "    symbols_usdt = [x for x in symbols if 'USDT' in x]  # 끝이 USDT로 끝나는 심볼들, ['BTCUSDT', 'ETHUSDT', ...]\n",
    "    return symbols_usdt\n",
    "\n",
    "def bin_get_data(start_date, end_date, symbol , interval): # 시작일 , 종료일 , 심볼명 , 분/시간/일/주/월 데이터 선택\n",
    "    URL = 'https://api.binance.com/api/v3/klines'\n",
    "    \n",
    "    COLUMNS = ['Open_time', 'Open', 'High', 'Low', 'Close', 'Volume', 'Close_time', 'quote_av', 'trades', \n",
    "               'tb_base_av', 'tb_quote_av', 'ignore']\n",
    "    data = []\n",
    "    \n",
    "    start = int(time.mktime(datetime.strptime(start_date + ' 00:00', '%Y-%m-%d %H:%M').timetuple())) * 1000\n",
    "    end = int(time.mktime(datetime.strptime(end_date +' 23:59', '%Y-%m-%d %H:%M').timetuple())) * 1000\n",
    "    params = {\n",
    "        'symbol': symbol,\n",
    "        'interval': interval,\n",
    "        'limit': 1000,\n",
    "        'startTime': start,\n",
    "        'endTime': end\n",
    "    }\n",
    "    \n",
    "    while start < end:\n",
    "#         print(datetime.fromtimestamp(start // 1000))\n",
    "        params['startTime'] = start\n",
    "        result = requests.get(URL, params = params)\n",
    "        js = result.json()\n",
    "        if not js:\n",
    "            break\n",
    "        data.extend(js)  # result에 저장\n",
    "        start = js[-1][0] + 60000  # 다음 step으로\n",
    "    # 전처리\n",
    "    if not data:  # 해당 기간에 데이터가 없는 경우\n",
    "        print('해당 기간에 일치하는 데이터가 없습니다.')\n",
    "        return -1\n",
    "    df = pd.DataFrame(data)\n",
    "    df.columns = COLUMNS\n",
    "    df['Open_time'] = df.apply(lambda x:datetime.fromtimestamp(x['Open_time'] // 1000), axis=1)\n",
    "    df = df.drop(columns = ['Close_time', 'ignore'])\n",
    "    df['Symbol'] = symbol\n",
    "    df.loc[:, 'Open':'tb_quote_av'] = df.loc[:, 'Open':'tb_quote_av'].astype(float)  # string to float\n",
    "    df['trades'] = df['trades'].astype(int)\n",
    "    \n",
    "############    \n",
    "\n",
    "\n",
    "    df['날짜'] = pd.to_datetime(df['Open_time'], format='%Y-%m-%d %H:%M:%S', errors='raise')\n",
    "#     df = df.set_index('Open_time',drop=True)\n",
    "    df[\"날짜\"] = df[\"날짜\"].astype('str')\n",
    "    df[\"날짜\"] = [df[\"날짜\"][i][0:4]+\"-\"+df[\"날짜\"][i][5:7]+\"-\"+df[\"날짜\"][i][8:10] for i in range(len(df[\"날짜\"]))]\n",
    "    df['날짜'] = pd.to_datetime(df['날짜'], format='%Y-%m-%d', errors='raise')\n",
    "    \n",
    "    df = df.sort_values(['날짜'],ascending= True).drop_duplicates('날짜').reset_index(drop = True).rename(columns={'날짜':'time'})\n",
    "    del df[\"Open_time\"]\n",
    "    \n",
    "    return df\n",
    "\n",
    "# 바이낸스 상장 심볼명 (현물) 데이터 가져옮\n",
    "bin_sym_name = bin_sym_names() # bin_sym_name = symbols_usdt\n",
    "\n",
    "\n",
    "# 시작~끝일 데이터 가져옮\n",
    "start_date = '2017-01-01' # 시작일 (2017 년도 부터 가능)\n",
    "end_date = '2022-12-31' # 종료일\n",
    "interval = \"1d\"  #  ,'4h',\"1m\" \n",
    "symbol = bin_sym_name[0] # 숫자만 바꾸면 다른 코인 데이터 가져롬\n",
    "print(symbol)\n",
    "\n",
    "bin_data = bin_get_data(start_date, end_date, symbol , interval) #바이낸스에서 데이터 가져옮"
   ]
  },
  {
   "cell_type": "code",
   "execution_count": 680,
   "metadata": {},
   "outputs": [
    {
     "name": "stdout",
     "output_type": "stream",
     "text": [
      "<class 'pandas.core.frame.DataFrame'>\n",
      "RangeIndex: 1799 entries, 0 to 1798\n",
      "Data columns (total 11 columns):\n",
      " #   Column       Non-Null Count  Dtype         \n",
      "---  ------       --------------  -----         \n",
      " 0   Open         1799 non-null   float64       \n",
      " 1   High         1799 non-null   float64       \n",
      " 2   Low          1799 non-null   float64       \n",
      " 3   Close        1799 non-null   float64       \n",
      " 4   Volume       1799 non-null   float64       \n",
      " 5   quote_av     1799 non-null   float64       \n",
      " 6   trades       1799 non-null   int32         \n",
      " 7   tb_base_av   1799 non-null   float64       \n",
      " 8   tb_quote_av  1799 non-null   float64       \n",
      " 9   Symbol       1799 non-null   object        \n",
      " 10  time         1799 non-null   datetime64[ns]\n",
      "dtypes: datetime64[ns](1), float64(8), int32(1), object(1)\n",
      "memory usage: 147.7+ KB\n"
     ]
    },
    {
     "data": {
      "text/plain": [
       "(          Open      High       Low     Close         Volume      quote_av  \\\n",
       " 0      4261.48   4485.39   4200.74   4285.08     795.150377  3.454770e+06   \n",
       " 1      4285.08   4371.52   3938.77   4108.37    1199.888264  5.086958e+06   \n",
       " 2      4108.37   4184.69   3850.00   4139.98     381.309763  1.549484e+06   \n",
       " 3      4120.98   4211.08   4032.62   4086.29     467.083022  1.930364e+06   \n",
       " 4      4069.13   4119.62   3911.79   4016.00     691.743060  2.797232e+06   \n",
       " ...        ...       ...       ...       ...            ...           ...   \n",
       " 1794  20830.04  21588.94  20478.61  21195.60  121011.673930  2.539617e+09   \n",
       " 1795  21195.60  21684.54  20750.01  20798.16  118229.452500  2.511251e+09   \n",
       " 1796  20799.58  22777.63  20762.45  22432.58  239942.731320  5.263397e+09   \n",
       " 1797  22432.58  23800.00  21579.54  23396.62  263770.765740  5.954420e+09   \n",
       " 1798  23398.48  23935.00  22922.00  23819.67  118577.636860  2.786275e+09   \n",
       " \n",
       "        trades     tb_base_av   tb_quote_av   Symbol       time  \n",
       " 0        3427     616.248541  2.678216e+06  BTCUSDT 2017-08-17  \n",
       " 1        5233     972.868710  4.129123e+06  BTCUSDT 2017-08-18  \n",
       " 2        2153     274.336042  1.118002e+06  BTCUSDT 2017-08-19  \n",
       " 3        2321     376.795947  1.557401e+06  BTCUSDT 2017-08-20  \n",
       " 4        3972     557.356107  2.255663e+06  BTCUSDT 2017-08-21  \n",
       " ...       ...            ...           ...      ...        ...  \n",
       " 1794  3723401   61225.462640  1.285100e+09  BTCUSDT 2022-07-16  \n",
       " 1795  4261057   59550.952910  1.265043e+09  BTCUSDT 2022-07-17  \n",
       " 1796  6564387  122398.318620  2.685273e+09  BTCUSDT 2022-07-18  \n",
       " 1797  6488375  132874.434050  2.999606e+09  BTCUSDT 2022-07-19  \n",
       " 1798  3106203   60060.686330  1.411498e+09  BTCUSDT 2022-07-20  \n",
       " \n",
       " [1799 rows x 11 columns],\n",
       " None)"
      ]
     },
     "execution_count": 680,
     "metadata": {},
     "output_type": "execute_result"
    }
   ],
   "source": [
    "bin_data.to_csv(save_path+\"bin_data\"+\".csv\",index = False, encoding = \"cp949\")\n",
    "bin_data,bin_data.info()"
   ]
  },
  {
   "cell_type": "code",
   "execution_count": 650,
   "metadata": {},
   "outputs": [],
   "source": [
    "# KRW_USDT = Pretreatment_by_invest(KRW_USDT)\n",
    "# KRW_EUR = Pretreatment_by_invest(KRW_EUR)\n",
    "# KRW_CNY = Pretreatment_by_invest(KRW_CNY)\n",
    "# datagGuide = Pretreatment_by_datagGuide(datagGuide)\n",
    "# base_rate = for_base_rate(base_rate)\n",
    "# krx_100 = Pretreatment_by_yes_trader(krx_100)\n",
    "# BTC_KRW = Pretreatment_by_yes_trader(BTC_KRW)\n",
    "# bin_data = bin_get_data(start_date, end_date, symbol , interval) #바이낸스에서 데이터 가져옮"
   ]
  },
  {
   "cell_type": "code",
   "execution_count": null,
   "metadata": {},
   "outputs": [],
   "source": []
  }
 ],
 "metadata": {
  "kernelspec": {
   "display_name": "Python 3 (ipykernel)",
   "language": "python",
   "name": "python3"
  },
  "language_info": {
   "codemirror_mode": {
    "name": "ipython",
    "version": 3
   },
   "file_extension": ".py",
   "mimetype": "text/x-python",
   "name": "python",
   "nbconvert_exporter": "python",
   "pygments_lexer": "ipython3",
   "version": "3.9.12"
  }
 },
 "nbformat": 4,
 "nbformat_minor": 4
}
